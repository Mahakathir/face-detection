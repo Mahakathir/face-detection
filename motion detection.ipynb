{
 "cells": [
  {
   "cell_type": "code",
   "execution_count": 14,
   "id": "a29fffad",
   "metadata": {},
   "outputs": [],
   "source": [
    "import cv2 as a\n",
    "import numpy as p"
   ]
  },
  {
   "cell_type": "code",
   "execution_count": 15,
   "id": "7a178942",
   "metadata": {},
   "outputs": [],
   "source": [
    "cap=a.VideoCapture(0)"
   ]
  },
  {
   "cell_type": "markdown",
   "id": "d3e9b845",
   "metadata": {},
   "source": [
    "# reading&color conversion"
   ]
  },
  {
   "cell_type": "code",
   "execution_count": 16,
   "id": "f42863f9",
   "metadata": {},
   "outputs": [],
   "source": [
    "ret,frame=cap.read()\n",
    "prv=a.cvtColor(frame,a.COLOR_BGR2GRAY)"
   ]
  },
  {
   "cell_type": "markdown",
   "id": "fb7f357a",
   "metadata": {},
   "source": [
    "# zero matrix"
   ]
  },
  {
   "cell_type": "code",
   "execution_count": 17,
   "id": "6593f2fc",
   "metadata": {},
   "outputs": [],
   "source": [
    "hsv=p.zeros_like(frame)\n",
    "hsv[...,1]=255"
   ]
  },
  {
   "cell_type": "markdown",
   "id": "0177a670",
   "metadata": {},
   "source": [
    "# dense optical"
   ]
  },
  {
   "cell_type": "code",
   "execution_count": 18,
   "id": "c4e817bb",
   "metadata": {},
   "outputs": [],
   "source": [
    "while(1):\n",
    "    ret,fra=cap.read()\n",
    "    next=a.cvtColor(fra,a.COLOR_BGR2GRAY)\n",
    "    flow=a.calcOpticalFlowFarneback(prv,next,None,0.5,3,15,3,5,1.2,0)\n",
    "    mag,ang=a.cartToPolar(flow[...,0],flow[...,1])\n",
    "    hsv[...,0]=ang*180/p.pi/2\n",
    "    hsv[...,2]=a.normalize(mag,None,0,255,a.NORM_MINMAX)\n",
    "    rgb=a.cvtColor(hsv,a.COLOR_HSV2BGR)\n",
    "    a.imshow('frame',rgb)\n",
    "    k=a.waitKey(30)&0xff\n",
    "    if k==27:\n",
    "        break\n",
    "\n",
    "cap.release()\n",
    "a.destroyAllWindows()"
   ]
  },
  {
   "cell_type": "code",
   "execution_count": null,
   "id": "be32a714",
   "metadata": {},
   "outputs": [],
   "source": []
  }
 ],
 "metadata": {
  "kernelspec": {
   "display_name": "Python 3 (ipykernel)",
   "language": "python",
   "name": "python3"
  },
  "language_info": {
   "codemirror_mode": {
    "name": "ipython",
    "version": 3
   },
   "file_extension": ".py",
   "mimetype": "text/x-python",
   "name": "python",
   "nbconvert_exporter": "python",
   "pygments_lexer": "ipython3",
   "version": "3.9.15"
  }
 },
 "nbformat": 4,
 "nbformat_minor": 5
}
