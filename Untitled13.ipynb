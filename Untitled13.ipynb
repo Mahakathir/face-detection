{
 "cells": [
  {
   "cell_type": "code",
   "execution_count": 1,
   "id": "7ad47a4e",
   "metadata": {},
   "outputs": [],
   "source": [
    "import cv2 as a\n",
    "import numpy as p"
   ]
  },
  {
   "cell_type": "code",
   "execution_count": 2,
   "id": "b49a1d7c",
   "metadata": {},
   "outputs": [],
   "source": [
    "fd=a.CascadeClassifier(a.data.haarcascades+'haarcascade_frontalface_default.xml')\n",
    "ed=a.CascadeClassifier(a.data.haarcascades+'haarcascade_eye.xml')"
   ]
  },
  {
   "cell_type": "code",
   "execution_count": 5,
   "id": "145e4630",
   "metadata": {},
   "outputs": [],
   "source": [
    "img=a.VideoCapture(0)\n",
    "while(1):\n",
    "    ret,frame=img.read()\n",
    "    gray=a.cvtColor(frame,a.COLOR_BGR2GRAY)\n",
    "    faces=fd.detectMultiScale(gray,scaleFactor=1.1,minNeighbors=1,minSize=(30,30))\n",
    "    for(x,y,w,h) in faces:\n",
    "        a.rectangle(frame,(x,y),(x+w,y+h),(0,255,0),2) \n",
    "        \n",
    "    eyes=ed.detectMultiScale(gray,scaleFactor=1.1,minNeighbors=1,minSize=(30,30))\n",
    "    for(ex,ey,ew,eh) in eyes:\n",
    "         a.rectangle(frame,(ex,ey),(ex+ew,ey+eh),(255,0,0),2)\n",
    "            \n",
    "    a.imshow('capture',frame)\n",
    "    k=a.waitKey(25)&0xff\n",
    "    if k==27:\n",
    "        break\n",
    "\n",
    "img.release()\n",
    "a.destroyAllWindows()"
   ]
  },
  {
   "cell_type": "code",
   "execution_count": null,
   "id": "76ff5240",
   "metadata": {},
   "outputs": [],
   "source": []
  }
 ],
 "metadata": {
  "kernelspec": {
   "display_name": "Python 3 (ipykernel)",
   "language": "python",
   "name": "python3"
  },
  "language_info": {
   "codemirror_mode": {
    "name": "ipython",
    "version": 3
   },
   "file_extension": ".py",
   "mimetype": "text/x-python",
   "name": "python",
   "nbconvert_exporter": "python",
   "pygments_lexer": "ipython3",
   "version": "3.9.15"
  }
 },
 "nbformat": 4,
 "nbformat_minor": 5
}
